{
 "cells": [
  {
   "cell_type": "markdown",
   "metadata": {},
   "source": [
    "# Pre-processing wikipedia dumps with dask (part 2)\n",
    "> Part 1 showed how to convert the SQL into dataframes. Further processing those dataframes into usable data.\n",
    "- toc: true\n",
    "- branch: master\n",
    "- badges: true\n",
    "- comments: false\n",
    "- author: Nicolas Aspert\n",
    "- categories: [wikipedia, dask]"
   ]
  },
  {
   "cell_type": "markdown",
   "metadata": {},
   "source": [
    "After processing the SQL dumps in [part 1](https://dev.clockworkpanda.xyz/wikipedia/dask/2020/12/02/daskwiki.html), we need to further process the data to make it importable in Neo4j. We need to\n",
    "- find the id of the pages when redirecting\n",
    "- find the target id of the page in the `pagelinks` table, taking into account page redirections\n",
    "\n",
    "There are other ways of doing those tasks, and handling redirects can be done directly in Neo4j: you can imagine creating the redirection pages and have links of type `REDIRECTS_TO` in addition to the \"normal\" links between pages `LINKS_TO`. However, this would add a huge number of relationships in the database (I tried it for you), and makes the queries slower and more complex, without bringing (at least for the studies performed in our lab) additional value. Hence the choice of handling redirections prior import.\n",
    "\n",
    "Make sure to check the [sparkwiki import guide](https://github.com/epfl-lts2/sparkwiki/tree/master/helpers) to get a global view. The [source code of DumpProcessor](https://github.com/epfl-lts2/sparkwiki/blob/master/src/main/scala/ch/epfl/lts2/wikipedia/DumpProcessor.scala) is also of interest, as we will replicate its functionalities here."
   ]
  },
  {
   "cell_type": "code",
   "execution_count": 1,
   "metadata": {},
   "outputs": [],
   "source": [
    "import os\n",
    "import pandas as pd\n",
    "import dask\n",
    "import dask.dataframe as ddf\n",
    "from dask.distributed import LocalCluster, Client"
   ]
  },
  {
   "cell_type": "code",
   "execution_count": 2,
   "metadata": {},
   "outputs": [
    {
     "data": {
      "text/plain": [
       "<dask.config.set at 0x7f984190c150>"
      ]
     },
     "execution_count": 2,
     "metadata": {},
     "output_type": "execute_result"
    }
   ],
   "source": [
    "dask.config.set({'temporary_directory': '/tmp'}) # make sure temp dir is local !"
   ]
  },
  {
   "cell_type": "code",
   "execution_count": 2,
   "metadata": {},
   "outputs": [],
   "source": [
    "cluster = LocalCluster(n_workers=6, threads_per_worker=4, memory_limit=24e9) # adapt to your local resources !\n",
    "client = Client(cluster)"
   ]
  },
  {
   "cell_type": "code",
   "execution_count": 5,
   "metadata": {},
   "outputs": [],
   "source": [
    "data_path = '/data/wikipedia/20201120'"
   ]
  },
  {
   "cell_type": "markdown",
   "metadata": {},
   "source": [
    "Read parquet files generated in part 1 from disk"
   ]
  },
  {
   "cell_type": "code",
   "execution_count": 4,
   "metadata": {},
   "outputs": [],
   "source": [
    "redirect_df = ddf.read_parquet(os.path.join(data_path, 'processed', 'redirect.parquet'))\n",
    "pages_df = ddf.read_parquet(os.path.join(data_path, 'processed', 'pages.parquet'))\n",
    "pagelinks_df = ddf.read_parquet(os.path.join(data_path, 'processed', 'pagelinks.parquet'))"
   ]
  },
  {
   "cell_type": "markdown",
   "metadata": {},
   "source": [
    "Or read my copy from our s3 bucket on switchengines"
   ]
  },
  {
   "cell_type": "code",
   "execution_count": 7,
   "metadata": {},
   "outputs": [],
   "source": [
    "storage_options={'anon':True, 'client_kwargs':{'endpoint_url':'https://os.unil.cloud.switch.ch'}}"
   ]
  },
  {
   "cell_type": "code",
   "execution_count": 3,
   "metadata": {},
   "outputs": [],
   "source": [
    "redirect_df = ddf.read_parquet('s3://lts2-wikipedia/enwiki/20201120/redirect.parquet', storage_options=storage_options)\n",
    "pages_df = ddf.read_parquet('s3://lts2-wikipedia/enwiki/20201120/pages.parquet', storage_options=storage_options)\n",
    "pagelinks_df = ddf.read_parquet('s3://lts2-wikipedia/enwiki/20201120/pagelinks.parquet', storage_options=storage_options)"
   ]
  },
  {
   "cell_type": "markdown",
   "metadata": {},
   "source": [
    "Just a quick glance at the dataframe to make sure the data is here"
   ]
  },
  {
   "cell_type": "code",
   "execution_count": 5,
   "metadata": {},
   "outputs": [
    {
     "data": {
      "text/html": [
       "<div>\n",
       "<style scoped>\n",
       "    .dataframe tbody tr th:only-of-type {\n",
       "        vertical-align: middle;\n",
       "    }\n",
       "\n",
       "    .dataframe tbody tr th {\n",
       "        vertical-align: top;\n",
       "    }\n",
       "\n",
       "    .dataframe thead th {\n",
       "        text-align: right;\n",
       "    }\n",
       "</style>\n",
       "<table border=\"1\" class=\"dataframe\">\n",
       "  <thead>\n",
       "    <tr style=\"text-align: right;\">\n",
       "      <th></th>\n",
       "      <th>target_ns</th>\n",
       "      <th>title</th>\n",
       "      <th>inter_wiki</th>\n",
       "      <th>fragment</th>\n",
       "    </tr>\n",
       "    <tr>\n",
       "      <th>from</th>\n",
       "      <th></th>\n",
       "      <th></th>\n",
       "      <th></th>\n",
       "      <th></th>\n",
       "    </tr>\n",
       "  </thead>\n",
       "  <tbody>\n",
       "    <tr>\n",
       "      <th>10</th>\n",
       "      <td>0</td>\n",
       "      <td>Computer_accessibility</td>\n",
       "      <td>''</td>\n",
       "      <td>''</td>\n",
       "    </tr>\n",
       "    <tr>\n",
       "      <th>13</th>\n",
       "      <td>0</td>\n",
       "      <td>History_of_Afghanistan</td>\n",
       "      <td>''</td>\n",
       "      <td>''</td>\n",
       "    </tr>\n",
       "    <tr>\n",
       "      <th>14</th>\n",
       "      <td>0</td>\n",
       "      <td>Geography_of_Afghanistan</td>\n",
       "      <td>''</td>\n",
       "      <td>''</td>\n",
       "    </tr>\n",
       "    <tr>\n",
       "      <th>15</th>\n",
       "      <td>0</td>\n",
       "      <td>Demographics_of_Afghanistan</td>\n",
       "      <td>''</td>\n",
       "      <td>''</td>\n",
       "    </tr>\n",
       "    <tr>\n",
       "      <th>18</th>\n",
       "      <td>0</td>\n",
       "      <td>Communications_in_Afghanistan</td>\n",
       "      <td>''</td>\n",
       "      <td>''</td>\n",
       "    </tr>\n",
       "    <tr>\n",
       "      <th>19</th>\n",
       "      <td>0</td>\n",
       "      <td>Transport_in_Afghanistan</td>\n",
       "      <td>''</td>\n",
       "      <td>''</td>\n",
       "    </tr>\n",
       "    <tr>\n",
       "      <th>20</th>\n",
       "      <td>0</td>\n",
       "      <td>Afghan_Armed_Forces</td>\n",
       "      <td>''</td>\n",
       "      <td>''</td>\n",
       "    </tr>\n",
       "    <tr>\n",
       "      <th>21</th>\n",
       "      <td>0</td>\n",
       "      <td>Foreign_relations_of_Afghanistan</td>\n",
       "      <td>''</td>\n",
       "      <td>''</td>\n",
       "    </tr>\n",
       "    <tr>\n",
       "      <th>23</th>\n",
       "      <td>0</td>\n",
       "      <td>Assistive_technology</td>\n",
       "      <td>''</td>\n",
       "      <td>''</td>\n",
       "    </tr>\n",
       "    <tr>\n",
       "      <th>24</th>\n",
       "      <td>0</td>\n",
       "      <td>Amoeba</td>\n",
       "      <td>''</td>\n",
       "      <td>''</td>\n",
       "    </tr>\n",
       "  </tbody>\n",
       "</table>\n",
       "</div>"
      ],
      "text/plain": [
       "      target_ns                             title inter_wiki fragment\n",
       "from                                                                 \n",
       "10            0            Computer_accessibility         ''       ''\n",
       "13            0            History_of_Afghanistan         ''       ''\n",
       "14            0          Geography_of_Afghanistan         ''       ''\n",
       "15            0       Demographics_of_Afghanistan         ''       ''\n",
       "18            0     Communications_in_Afghanistan         ''       ''\n",
       "19            0          Transport_in_Afghanistan         ''       ''\n",
       "20            0               Afghan_Armed_Forces         ''       ''\n",
       "21            0  Foreign_relations_of_Afghanistan         ''       ''\n",
       "23            0              Assistive_technology         ''       ''\n",
       "24            0                            Amoeba         ''       ''"
      ]
     },
     "execution_count": 5,
     "metadata": {},
     "output_type": "execute_result"
    }
   ],
   "source": [
    "redirect_df.head(10)"
   ]
  },
  {
   "cell_type": "code",
   "execution_count": 6,
   "metadata": {},
   "outputs": [
    {
     "data": {
      "text/html": [
       "<div>\n",
       "<style scoped>\n",
       "    .dataframe tbody tr th:only-of-type {\n",
       "        vertical-align: middle;\n",
       "    }\n",
       "\n",
       "    .dataframe tbody tr th {\n",
       "        vertical-align: top;\n",
       "    }\n",
       "\n",
       "    .dataframe thead th {\n",
       "        text-align: right;\n",
       "    }\n",
       "</style>\n",
       "<table border=\"1\" class=\"dataframe\">\n",
       "  <thead>\n",
       "    <tr style=\"text-align: right;\">\n",
       "      <th></th>\n",
       "      <th>namespace</th>\n",
       "      <th>title</th>\n",
       "      <th>is_redirect</th>\n",
       "      <th>is_new</th>\n",
       "    </tr>\n",
       "    <tr>\n",
       "      <th>id</th>\n",
       "      <th></th>\n",
       "      <th></th>\n",
       "      <th></th>\n",
       "      <th></th>\n",
       "    </tr>\n",
       "  </thead>\n",
       "  <tbody>\n",
       "    <tr>\n",
       "      <th>10</th>\n",
       "      <td>0</td>\n",
       "      <td>AccessibleComputing</td>\n",
       "      <td>True</td>\n",
       "      <td>False</td>\n",
       "    </tr>\n",
       "    <tr>\n",
       "      <th>12</th>\n",
       "      <td>0</td>\n",
       "      <td>Anarchism</td>\n",
       "      <td>False</td>\n",
       "      <td>False</td>\n",
       "    </tr>\n",
       "    <tr>\n",
       "      <th>13</th>\n",
       "      <td>0</td>\n",
       "      <td>AfghanistanHistory</td>\n",
       "      <td>True</td>\n",
       "      <td>False</td>\n",
       "    </tr>\n",
       "    <tr>\n",
       "      <th>14</th>\n",
       "      <td>0</td>\n",
       "      <td>AfghanistanGeography</td>\n",
       "      <td>True</td>\n",
       "      <td>False</td>\n",
       "    </tr>\n",
       "    <tr>\n",
       "      <th>15</th>\n",
       "      <td>0</td>\n",
       "      <td>AfghanistanPeople</td>\n",
       "      <td>True</td>\n",
       "      <td>False</td>\n",
       "    </tr>\n",
       "    <tr>\n",
       "      <th>18</th>\n",
       "      <td>0</td>\n",
       "      <td>AfghanistanCommunications</td>\n",
       "      <td>True</td>\n",
       "      <td>False</td>\n",
       "    </tr>\n",
       "    <tr>\n",
       "      <th>19</th>\n",
       "      <td>0</td>\n",
       "      <td>AfghanistanTransportations</td>\n",
       "      <td>True</td>\n",
       "      <td>False</td>\n",
       "    </tr>\n",
       "    <tr>\n",
       "      <th>20</th>\n",
       "      <td>0</td>\n",
       "      <td>AfghanistanMilitary</td>\n",
       "      <td>True</td>\n",
       "      <td>False</td>\n",
       "    </tr>\n",
       "    <tr>\n",
       "      <th>21</th>\n",
       "      <td>0</td>\n",
       "      <td>AfghanistanTransnationalIssues</td>\n",
       "      <td>True</td>\n",
       "      <td>False</td>\n",
       "    </tr>\n",
       "    <tr>\n",
       "      <th>23</th>\n",
       "      <td>0</td>\n",
       "      <td>AssistiveTechnology</td>\n",
       "      <td>True</td>\n",
       "      <td>False</td>\n",
       "    </tr>\n",
       "  </tbody>\n",
       "</table>\n",
       "</div>"
      ],
      "text/plain": [
       "    namespace                           title  is_redirect  is_new\n",
       "id                                                                \n",
       "10          0             AccessibleComputing         True   False\n",
       "12          0                       Anarchism        False   False\n",
       "13          0              AfghanistanHistory         True   False\n",
       "14          0            AfghanistanGeography         True   False\n",
       "15          0               AfghanistanPeople         True   False\n",
       "18          0       AfghanistanCommunications         True   False\n",
       "19          0      AfghanistanTransportations         True   False\n",
       "20          0             AfghanistanMilitary         True   False\n",
       "21          0  AfghanistanTransnationalIssues         True   False\n",
       "23          0             AssistiveTechnology         True   False"
      ]
     },
     "execution_count": 6,
     "metadata": {},
     "output_type": "execute_result"
    }
   ],
   "source": [
    "pages_df.head(10)"
   ]
  },
  {
   "cell_type": "code",
   "execution_count": 7,
   "metadata": {},
   "outputs": [
    {
     "data": {
      "text/html": [
       "<div>\n",
       "<style scoped>\n",
       "    .dataframe tbody tr th:only-of-type {\n",
       "        vertical-align: middle;\n",
       "    }\n",
       "\n",
       "    .dataframe tbody tr th {\n",
       "        vertical-align: top;\n",
       "    }\n",
       "\n",
       "    .dataframe thead th {\n",
       "        text-align: right;\n",
       "    }\n",
       "</style>\n",
       "<table border=\"1\" class=\"dataframe\">\n",
       "  <thead>\n",
       "    <tr style=\"text-align: right;\">\n",
       "      <th></th>\n",
       "      <th>from</th>\n",
       "      <th>namespace</th>\n",
       "      <th>title</th>\n",
       "      <th>from_namespace</th>\n",
       "    </tr>\n",
       "  </thead>\n",
       "  <tbody>\n",
       "    <tr>\n",
       "      <th>0</th>\n",
       "      <td>4748</td>\n",
       "      <td>0</td>\n",
       "      <td>!</td>\n",
       "      <td>0</td>\n",
       "    </tr>\n",
       "    <tr>\n",
       "      <th>1</th>\n",
       "      <td>9773</td>\n",
       "      <td>0</td>\n",
       "      <td>!</td>\n",
       "      <td>0</td>\n",
       "    </tr>\n",
       "    <tr>\n",
       "      <th>2</th>\n",
       "      <td>15154</td>\n",
       "      <td>0</td>\n",
       "      <td>!</td>\n",
       "      <td>0</td>\n",
       "    </tr>\n",
       "    <tr>\n",
       "      <th>3</th>\n",
       "      <td>25213</td>\n",
       "      <td>0</td>\n",
       "      <td>!</td>\n",
       "      <td>0</td>\n",
       "    </tr>\n",
       "    <tr>\n",
       "      <th>4</th>\n",
       "      <td>613303</td>\n",
       "      <td>0</td>\n",
       "      <td>!</td>\n",
       "      <td>0</td>\n",
       "    </tr>\n",
       "    <tr>\n",
       "      <th>5</th>\n",
       "      <td>1028188</td>\n",
       "      <td>0</td>\n",
       "      <td>!</td>\n",
       "      <td>0</td>\n",
       "    </tr>\n",
       "    <tr>\n",
       "      <th>6</th>\n",
       "      <td>1497620</td>\n",
       "      <td>0</td>\n",
       "      <td>!</td>\n",
       "      <td>0</td>\n",
       "    </tr>\n",
       "    <tr>\n",
       "      <th>7</th>\n",
       "      <td>2875276</td>\n",
       "      <td>0</td>\n",
       "      <td>!</td>\n",
       "      <td>0</td>\n",
       "    </tr>\n",
       "    <tr>\n",
       "      <th>8</th>\n",
       "      <td>2988645</td>\n",
       "      <td>0</td>\n",
       "      <td>!</td>\n",
       "      <td>0</td>\n",
       "    </tr>\n",
       "    <tr>\n",
       "      <th>9</th>\n",
       "      <td>4355567</td>\n",
       "      <td>0</td>\n",
       "      <td>!</td>\n",
       "      <td>0</td>\n",
       "    </tr>\n",
       "  </tbody>\n",
       "</table>\n",
       "</div>"
      ],
      "text/plain": [
       "      from  namespace title  from_namespace\n",
       "0     4748          0     !               0\n",
       "1     9773          0     !               0\n",
       "2    15154          0     !               0\n",
       "3    25213          0     !               0\n",
       "4   613303          0     !               0\n",
       "5  1028188          0     !               0\n",
       "6  1497620          0     !               0\n",
       "7  2875276          0     !               0\n",
       "8  2988645          0     !               0\n",
       "9  4355567          0     !               0"
      ]
     },
     "execution_count": 7,
     "metadata": {},
     "output_type": "execute_result"
    }
   ],
   "source": [
    "pagelinks_df.head(10)"
   ]
  },
  {
   "cell_type": "markdown",
   "metadata": {},
   "source": [
    "# Merge redirect with pages\n",
    "\n",
    "We need to find the id of the page we are redirecting to. E.g. page with id=10 'AccessibleComputing' redirects to 'Computer_accessibility'"
   ]
  },
  {
   "cell_type": "code",
   "execution_count": 16,
   "metadata": {},
   "outputs": [
    {
     "data": {
      "text/html": [
       "<div>\n",
       "<style scoped>\n",
       "    .dataframe tbody tr th:only-of-type {\n",
       "        vertical-align: middle;\n",
       "    }\n",
       "\n",
       "    .dataframe tbody tr th {\n",
       "        vertical-align: top;\n",
       "    }\n",
       "\n",
       "    .dataframe thead th {\n",
       "        text-align: right;\n",
       "    }\n",
       "</style>\n",
       "<table border=\"1\" class=\"dataframe\">\n",
       "  <thead>\n",
       "    <tr style=\"text-align: right;\">\n",
       "      <th></th>\n",
       "      <th>namespace</th>\n",
       "      <th>title</th>\n",
       "      <th>is_redirect</th>\n",
       "      <th>is_new</th>\n",
       "    </tr>\n",
       "    <tr>\n",
       "      <th>id</th>\n",
       "      <th></th>\n",
       "      <th></th>\n",
       "      <th></th>\n",
       "      <th></th>\n",
       "    </tr>\n",
       "  </thead>\n",
       "  <tbody>\n",
       "    <tr>\n",
       "      <th>411964</th>\n",
       "      <td>0</td>\n",
       "      <td>Computer_accessibility</td>\n",
       "      <td>False</td>\n",
       "      <td>False</td>\n",
       "    </tr>\n",
       "  </tbody>\n",
       "</table>\n",
       "</div>"
      ],
      "text/plain": [
       "        namespace                   title  is_redirect  is_new\n",
       "id                                                            \n",
       "411964          0  Computer_accessibility        False   False"
      ]
     },
     "execution_count": 16,
     "metadata": {},
     "output_type": "execute_result"
    }
   ],
   "source": [
    "pages_df[pages_df['title'] == 'Computer_accessibility'].compute()"
   ]
  },
  {
   "cell_type": "markdown",
   "metadata": {},
   "source": [
    "Here is how sparkwiki does the join between redirect and page DataFrames. We can skip the join on the namespace as we only kept namespace 0 in our pre-processed DataFrames (sparkwiki was designed to keep categories so additional care needs to be taken to get the proper id).\n",
    "\n",
    "```\n",
    "redirectDf.withColumn(\"id\", redirectDf.col(\"from\"))\n",
    "                .join(pageDf.drop(pageDf.col(\"title\")), \"id\")\n",
    "                .select(\"from\", \"targetNamespace\", \"title\")\n",
    "                .withColumn(\"namespace\", redirectDf.col(\"targetNamespace\"))\n",
    "                .join(pageDf, Seq(\"title\", \"namespace\")).select(\"from\", \"id\", \"title\")\n",
    "                .as[MergedRedirect]\n",
    "```\n",
    "                \n",
    "Here is the equivalent in python. The `reset_index` calls are needed because we need the indices in the resulting dataframe. Since we only kept namespace 0 pages, we can join using the `title` field only."
   ]
  },
  {
   "cell_type": "code",
   "execution_count": 8,
   "metadata": {},
   "outputs": [],
   "source": [
    "redirect_merged = redirect_df.reset_index().merge(pages_df.reset_index(), left_on='title', right_on='title')\\\n",
    "                    .drop(columns=['inter_wiki', 'fragment', 'namespace', 'is_new', 'target_ns'])"
   ]
  },
  {
   "cell_type": "markdown",
   "metadata": {},
   "source": [
    "We have still have leftover redirects that are not fully resolved"
   ]
  },
  {
   "cell_type": "code",
   "execution_count": 9,
   "metadata": {},
   "outputs": [
    {
     "data": {
      "text/html": [
       "<div>\n",
       "<style scoped>\n",
       "    .dataframe tbody tr th:only-of-type {\n",
       "        vertical-align: middle;\n",
       "    }\n",
       "\n",
       "    .dataframe tbody tr th {\n",
       "        vertical-align: top;\n",
       "    }\n",
       "\n",
       "    .dataframe thead th {\n",
       "        text-align: right;\n",
       "    }\n",
       "</style>\n",
       "<table border=\"1\" class=\"dataframe\">\n",
       "  <thead>\n",
       "    <tr style=\"text-align: right;\">\n",
       "      <th></th>\n",
       "      <th>from</th>\n",
       "      <th>title</th>\n",
       "      <th>id</th>\n",
       "      <th>is_redirect</th>\n",
       "    </tr>\n",
       "  </thead>\n",
       "  <tbody>\n",
       "    <tr>\n",
       "      <th>101499</th>\n",
       "      <td>12242480</td>\n",
       "      <td>New_Mexico_State_Road_333</td>\n",
       "      <td>2788393</td>\n",
       "      <td>True</td>\n",
       "    </tr>\n",
       "    <tr>\n",
       "      <th>232021</th>\n",
       "      <td>65663584</td>\n",
       "      <td>Senator_Shapiro_(disambiguation)</td>\n",
       "      <td>65663584</td>\n",
       "      <td>True</td>\n",
       "    </tr>\n",
       "    <tr>\n",
       "      <th>214813</th>\n",
       "      <td>56753023</td>\n",
       "      <td>Ran_Neu-Ner</td>\n",
       "      <td>51045453</td>\n",
       "      <td>True</td>\n",
       "    </tr>\n",
       "    <tr>\n",
       "      <th>229234</th>\n",
       "      <td>64811911</td>\n",
       "      <td>Monastery_of_Loukous</td>\n",
       "      <td>65734014</td>\n",
       "      <td>True</td>\n",
       "    </tr>\n",
       "    <tr>\n",
       "      <th>220021</th>\n",
       "      <td>59393217</td>\n",
       "      <td>Micro_TDH</td>\n",
       "      <td>59393217</td>\n",
       "      <td>True</td>\n",
       "    </tr>\n",
       "    <tr>\n",
       "      <th>231248</th>\n",
       "      <td>65733619</td>\n",
       "      <td>AnTuTu/11_Pro_Max_VS_S20_VS_Xperia_1_ii_VS_Fin...</td>\n",
       "      <td>65733623</td>\n",
       "      <td>True</td>\n",
       "    </tr>\n",
       "    <tr>\n",
       "      <th>229301</th>\n",
       "      <td>63009285</td>\n",
       "      <td>Fa_Hai</td>\n",
       "      <td>17826148</td>\n",
       "      <td>True</td>\n",
       "    </tr>\n",
       "    <tr>\n",
       "      <th>229302</th>\n",
       "      <td>63371040</td>\n",
       "      <td>Fa_Hai</td>\n",
       "      <td>17826148</td>\n",
       "      <td>True</td>\n",
       "    </tr>\n",
       "    <tr>\n",
       "      <th>232399</th>\n",
       "      <td>65521541</td>\n",
       "      <td>Centipetalism</td>\n",
       "      <td>65730750</td>\n",
       "      <td>True</td>\n",
       "    </tr>\n",
       "    <tr>\n",
       "      <th>232400</th>\n",
       "      <td>65524209</td>\n",
       "      <td>Centipetalism</td>\n",
       "      <td>65730750</td>\n",
       "      <td>True</td>\n",
       "    </tr>\n",
       "    <tr>\n",
       "      <th>229236</th>\n",
       "      <td>61459055</td>\n",
       "      <td>Baseco,_Manila</td>\n",
       "      <td>65734038</td>\n",
       "      <td>True</td>\n",
       "    </tr>\n",
       "    <tr>\n",
       "      <th>229237</th>\n",
       "      <td>61459107</td>\n",
       "      <td>Baseco,_Manila</td>\n",
       "      <td>65734038</td>\n",
       "      <td>True</td>\n",
       "    </tr>\n",
       "    <tr>\n",
       "      <th>229238</th>\n",
       "      <td>64901313</td>\n",
       "      <td>Baseco,_Manila</td>\n",
       "      <td>65734038</td>\n",
       "      <td>True</td>\n",
       "    </tr>\n",
       "    <tr>\n",
       "      <th>235946</th>\n",
       "      <td>65731901</td>\n",
       "      <td>Indigenous_land_conflicts_on_the_Mexico–United...</td>\n",
       "      <td>65731974</td>\n",
       "      <td>True</td>\n",
       "    </tr>\n",
       "    <tr>\n",
       "      <th>170127</th>\n",
       "      <td>37065249</td>\n",
       "      <td>Kunthavai_Nachiaar_College</td>\n",
       "      <td>65734319</td>\n",
       "      <td>True</td>\n",
       "    </tr>\n",
       "    <tr>\n",
       "      <th>227222</th>\n",
       "      <td>65386007</td>\n",
       "      <td>COVID-19_pandemic_in_Door_County,_Wisconsin</td>\n",
       "      <td>65282057</td>\n",
       "      <td>True</td>\n",
       "    </tr>\n",
       "  </tbody>\n",
       "</table>\n",
       "</div>"
      ],
      "text/plain": [
       "            from                                              title        id  \\\n",
       "101499  12242480                          New_Mexico_State_Road_333   2788393   \n",
       "232021  65663584                   Senator_Shapiro_(disambiguation)  65663584   \n",
       "214813  56753023                                        Ran_Neu-Ner  51045453   \n",
       "229234  64811911                               Monastery_of_Loukous  65734014   \n",
       "220021  59393217                                          Micro_TDH  59393217   \n",
       "231248  65733619  AnTuTu/11_Pro_Max_VS_S20_VS_Xperia_1_ii_VS_Fin...  65733623   \n",
       "229301  63009285                                             Fa_Hai  17826148   \n",
       "229302  63371040                                             Fa_Hai  17826148   \n",
       "232399  65521541                                      Centipetalism  65730750   \n",
       "232400  65524209                                      Centipetalism  65730750   \n",
       "229236  61459055                                     Baseco,_Manila  65734038   \n",
       "229237  61459107                                     Baseco,_Manila  65734038   \n",
       "229238  64901313                                     Baseco,_Manila  65734038   \n",
       "235946  65731901  Indigenous_land_conflicts_on_the_Mexico–United...  65731974   \n",
       "170127  37065249                         Kunthavai_Nachiaar_College  65734319   \n",
       "227222  65386007        COVID-19_pandemic_in_Door_County,_Wisconsin  65282057   \n",
       "\n",
       "        is_redirect  \n",
       "101499         True  \n",
       "232021         True  \n",
       "214813         True  \n",
       "229234         True  \n",
       "220021         True  \n",
       "231248         True  \n",
       "229301         True  \n",
       "229302         True  \n",
       "232399         True  \n",
       "232400         True  \n",
       "229236         True  \n",
       "229237         True  \n",
       "229238         True  \n",
       "235946         True  \n",
       "170127         True  \n",
       "227222         True  "
      ]
     },
     "execution_count": 9,
     "metadata": {},
     "output_type": "execute_result"
    }
   ],
   "source": [
    "redirect_merged[redirect_merged['is_redirect']].head(20, npartitions=10)"
   ]
  },
  {
   "cell_type": "markdown",
   "metadata": {},
   "source": [
    "Let us just discard them for now..."
   ]
  },
  {
   "cell_type": "code",
   "execution_count": 10,
   "metadata": {},
   "outputs": [],
   "source": [
    "redirect_merged_filt = redirect_merged[~redirect_merged['is_redirect']]"
   ]
  },
  {
   "cell_type": "code",
   "execution_count": 11,
   "metadata": {},
   "outputs": [],
   "source": [
    "redirect_merged_filt.to_parquet(os.path.join(data_path, 'processed', 'redirect_merged.parquet'), compression='gzip')"
   ]
  },
  {
   "cell_type": "markdown",
   "metadata": {},
   "source": [
    "# Merge pagelinks\n",
    "\n",
    "This is a bit more complicated, two steps are needed.\n",
    "\n",
    "## Step 1\n",
    "\n",
    "Find the id of the target page based on the `title` field, quite similar to the redirects we merged before.\n",
    "Here is the sparkwiki version :"
   ]
  },
  {
   "cell_type": "markdown",
   "metadata": {},
   "source": [
    "``` val pagelinks_id = pagelinks.join(pages, Seq(\"title\", \"namespace\"))\n",
    "                                .select(\"from\", \"id\", \"title\", \"fromNamespace\", \"namespace\")```"
   ]
  },
  {
   "cell_type": "code",
   "execution_count": 12,
   "metadata": {},
   "outputs": [],
   "source": [
    "pagelinks_id = pagelinks_df.drop(columns=['namespace', 'from_namespace']).merge(pages_df.drop(columns=['namespace']).reset_index()\\\n",
    "                        .drop(columns=['is_new']), left_on='title', right_on='title')"
   ]
  },
  {
   "cell_type": "markdown",
   "metadata": {},
   "source": [
    "Since we left out anything not being in namespace 0, a merge on the `title` field is sufficient. "
   ]
  },
  {
   "cell_type": "code",
   "execution_count": 40,
   "metadata": {},
   "outputs": [
    {
     "data": {
      "text/html": [
       "<div>\n",
       "<style scoped>\n",
       "    .dataframe tbody tr th:only-of-type {\n",
       "        vertical-align: middle;\n",
       "    }\n",
       "\n",
       "    .dataframe tbody tr th {\n",
       "        vertical-align: top;\n",
       "    }\n",
       "\n",
       "    .dataframe thead th {\n",
       "        text-align: right;\n",
       "    }\n",
       "</style>\n",
       "<table border=\"1\" class=\"dataframe\">\n",
       "  <thead>\n",
       "    <tr style=\"text-align: right;\">\n",
       "      <th></th>\n",
       "      <th>from</th>\n",
       "      <th>title</th>\n",
       "      <th>id</th>\n",
       "      <th>is_redirect</th>\n",
       "    </tr>\n",
       "  </thead>\n",
       "  <tbody>\n",
       "    <tr>\n",
       "      <th>0</th>\n",
       "      <td>364060</td>\n",
       "      <td>!Kung_languages</td>\n",
       "      <td>63813576</td>\n",
       "      <td>True</td>\n",
       "    </tr>\n",
       "    <tr>\n",
       "      <th>1</th>\n",
       "      <td>453953</td>\n",
       "      <td>!Kung_languages</td>\n",
       "      <td>63813576</td>\n",
       "      <td>True</td>\n",
       "    </tr>\n",
       "    <tr>\n",
       "      <th>2</th>\n",
       "      <td>453979</td>\n",
       "      <td>!Kung_languages</td>\n",
       "      <td>63813576</td>\n",
       "      <td>True</td>\n",
       "    </tr>\n",
       "    <tr>\n",
       "      <th>3</th>\n",
       "      <td>453991</td>\n",
       "      <td>!Kung_languages</td>\n",
       "      <td>63813576</td>\n",
       "      <td>True</td>\n",
       "    </tr>\n",
       "    <tr>\n",
       "      <th>4</th>\n",
       "      <td>1210028</td>\n",
       "      <td>!Kung_languages</td>\n",
       "      <td>63813576</td>\n",
       "      <td>True</td>\n",
       "    </tr>\n",
       "  </tbody>\n",
       "</table>\n",
       "</div>"
      ],
      "text/plain": [
       "      from            title        id  is_redirect\n",
       "0   364060  !Kung_languages  63813576         True\n",
       "1   453953  !Kung_languages  63813576         True\n",
       "2   453979  !Kung_languages  63813576         True\n",
       "3   453991  !Kung_languages  63813576         True\n",
       "4  1210028  !Kung_languages  63813576         True"
      ]
     },
     "execution_count": 40,
     "metadata": {},
     "output_type": "execute_result"
    }
   ],
   "source": [
    "pagelinks_id.head() # Expensive !"
   ]
  },
  {
   "cell_type": "code",
   "execution_count": 32,
   "metadata": {},
   "outputs": [],
   "source": [
    "# save the result, can be re-used later"
   ]
  },
  {
   "cell_type": "code",
   "execution_count": 41,
   "metadata": {},
   "outputs": [],
   "source": [
    "pagelinks_id.to_parquet(os.path.join(data_path, 'processed', 'pagelinks_id.parquet'), compression='gzip')"
   ]
  },
  {
   "cell_type": "code",
   "execution_count": 14,
   "metadata": {},
   "outputs": [
    {
     "data": {
      "text/html": [
       "<div>\n",
       "<style scoped>\n",
       "    .dataframe tbody tr th:only-of-type {\n",
       "        vertical-align: middle;\n",
       "    }\n",
       "\n",
       "    .dataframe tbody tr th {\n",
       "        vertical-align: top;\n",
       "    }\n",
       "\n",
       "    .dataframe thead th {\n",
       "        text-align: right;\n",
       "    }\n",
       "</style>\n",
       "<table border=\"1\" class=\"dataframe\">\n",
       "  <thead>\n",
       "    <tr style=\"text-align: right;\">\n",
       "      <th></th>\n",
       "      <th>from</th>\n",
       "      <th>title</th>\n",
       "      <th>id</th>\n",
       "      <th>is_redirect</th>\n",
       "    </tr>\n",
       "  </thead>\n",
       "  <tbody>\n",
       "    <tr>\n",
       "      <th>314</th>\n",
       "      <td>774551</td>\n",
       "      <td>(10397)_1997_SX33</td>\n",
       "      <td>33450953</td>\n",
       "      <td>True</td>\n",
       "    </tr>\n",
       "    <tr>\n",
       "      <th>319</th>\n",
       "      <td>774551</td>\n",
       "      <td>(121014)_1999_AJ22</td>\n",
       "      <td>33715493</td>\n",
       "      <td>True</td>\n",
       "    </tr>\n",
       "    <tr>\n",
       "      <th>320</th>\n",
       "      <td>774551</td>\n",
       "      <td>(12821)_1996_RG1</td>\n",
       "      <td>33476015</td>\n",
       "      <td>True</td>\n",
       "    </tr>\n",
       "    <tr>\n",
       "      <th>321</th>\n",
       "      <td>774551</td>\n",
       "      <td>(136838)_1997_WG22</td>\n",
       "      <td>33716060</td>\n",
       "      <td>True</td>\n",
       "    </tr>\n",
       "    <tr>\n",
       "      <th>325</th>\n",
       "      <td>774551</td>\n",
       "      <td>(15901)_1997_RY8</td>\n",
       "      <td>33496407</td>\n",
       "      <td>True</td>\n",
       "    </tr>\n",
       "    <tr>\n",
       "      <th>443</th>\n",
       "      <td>774551</td>\n",
       "      <td>(20261)_1998_FM12</td>\n",
       "      <td>33508561</td>\n",
       "      <td>True</td>\n",
       "    </tr>\n",
       "    <tr>\n",
       "      <th>591</th>\n",
       "      <td>774551</td>\n",
       "      <td>(246880)_1995_SR54</td>\n",
       "      <td>33737413</td>\n",
       "      <td>True</td>\n",
       "    </tr>\n",
       "    <tr>\n",
       "      <th>593</th>\n",
       "      <td>774551</td>\n",
       "      <td>(264290)_1998_SD27</td>\n",
       "      <td>33737645</td>\n",
       "      <td>True</td>\n",
       "    </tr>\n",
       "    <tr>\n",
       "      <th>594</th>\n",
       "      <td>774551</td>\n",
       "      <td>(26987)_1997_WP1</td>\n",
       "      <td>33517118</td>\n",
       "      <td>True</td>\n",
       "    </tr>\n",
       "    <tr>\n",
       "      <th>602</th>\n",
       "      <td>774551</td>\n",
       "      <td>(31177)_1997_XH11</td>\n",
       "      <td>33538369</td>\n",
       "      <td>True</td>\n",
       "    </tr>\n",
       "    <tr>\n",
       "      <th>708</th>\n",
       "      <td>774551</td>\n",
       "      <td>(43886)_1995_GR7</td>\n",
       "      <td>33583541</td>\n",
       "      <td>True</td>\n",
       "    </tr>\n",
       "    <tr>\n",
       "      <th>709</th>\n",
       "      <td>774551</td>\n",
       "      <td>(47129)_1999_CR118</td>\n",
       "      <td>33612119</td>\n",
       "      <td>True</td>\n",
       "    </tr>\n",
       "    <tr>\n",
       "      <th>716</th>\n",
       "      <td>774551</td>\n",
       "      <td>(55870)_1997_TD26</td>\n",
       "      <td>33647299</td>\n",
       "      <td>True</td>\n",
       "    </tr>\n",
       "    <tr>\n",
       "      <th>721</th>\n",
       "      <td>774551</td>\n",
       "      <td>(69478)_1996_XO15</td>\n",
       "      <td>33652547</td>\n",
       "      <td>True</td>\n",
       "    </tr>\n",
       "    <tr>\n",
       "      <th>725</th>\n",
       "      <td>774551</td>\n",
       "      <td>(73979)_1998_DF8</td>\n",
       "      <td>33659593</td>\n",
       "      <td>True</td>\n",
       "    </tr>\n",
       "    <tr>\n",
       "      <th>727</th>\n",
       "      <td>774551</td>\n",
       "      <td>(8227)_1996_VD4</td>\n",
       "      <td>33446736</td>\n",
       "      <td>True</td>\n",
       "    </tr>\n",
       "    <tr>\n",
       "      <th>729</th>\n",
       "      <td>774551</td>\n",
       "      <td>(85504)_1997_TC26</td>\n",
       "      <td>33678855</td>\n",
       "      <td>True</td>\n",
       "    </tr>\n",
       "    <tr>\n",
       "      <th>730</th>\n",
       "      <td>774551</td>\n",
       "      <td>(85659)_1998_QU29</td>\n",
       "      <td>33684922</td>\n",
       "      <td>True</td>\n",
       "    </tr>\n",
       "    <tr>\n",
       "      <th>732</th>\n",
       "      <td>774551</td>\n",
       "      <td>(90919)_1997_PA5</td>\n",
       "      <td>33687137</td>\n",
       "      <td>True</td>\n",
       "    </tr>\n",
       "    <tr>\n",
       "      <th>733</th>\n",
       "      <td>774551</td>\n",
       "      <td>(96300)_1996_SC8</td>\n",
       "      <td>33687729</td>\n",
       "      <td>True</td>\n",
       "    </tr>\n",
       "  </tbody>\n",
       "</table>\n",
       "</div>"
      ],
      "text/plain": [
       "       from               title        id  is_redirect\n",
       "314  774551   (10397)_1997_SX33  33450953         True\n",
       "319  774551  (121014)_1999_AJ22  33715493         True\n",
       "320  774551    (12821)_1996_RG1  33476015         True\n",
       "321  774551  (136838)_1997_WG22  33716060         True\n",
       "325  774551    (15901)_1997_RY8  33496407         True\n",
       "443  774551   (20261)_1998_FM12  33508561         True\n",
       "591  774551  (246880)_1995_SR54  33737413         True\n",
       "593  774551  (264290)_1998_SD27  33737645         True\n",
       "594  774551    (26987)_1997_WP1  33517118         True\n",
       "602  774551   (31177)_1997_XH11  33538369         True\n",
       "708  774551    (43886)_1995_GR7  33583541         True\n",
       "709  774551  (47129)_1999_CR118  33612119         True\n",
       "716  774551   (55870)_1997_TD26  33647299         True\n",
       "721  774551   (69478)_1996_XO15  33652547         True\n",
       "725  774551    (73979)_1998_DF8  33659593         True\n",
       "727  774551     (8227)_1996_VD4  33446736         True\n",
       "729  774551   (85504)_1997_TC26  33678855         True\n",
       "730  774551   (85659)_1998_QU29  33684922         True\n",
       "732  774551    (90919)_1997_PA5  33687137         True\n",
       "733  774551    (96300)_1996_SC8  33687729         True"
      ]
     },
     "execution_count": 14,
     "metadata": {},
     "output_type": "execute_result"
    }
   ],
   "source": [
    "pagelinks_id[pagelinks_id['from']==774551].head(20)"
   ]
  },
  {
   "cell_type": "markdown",
   "metadata": {},
   "source": [
    "## Step 2\n",
    "\n",
    "Now the more tricky part is to resolve redirections. "
   ]
  },
  {
   "cell_type": "markdown",
   "metadata": {},
   "source": [
    "```  \n",
    "val linksDf = pgLinksIdDf.withColumn(\"inter\", pgLinksIdDf.col(\"id\"))\n",
    "                   .join(redirectDf.withColumn(\"inter\", redirectDf.col(\"from\")).withColumnRenamed(\"from\", \"from_r\").withColumnRenamed(\"id\", \"to_r\"), Seq(\"inter\"), \"left\")\n",
    "                   .withColumn(\"dest\", when(col(\"to_r\").isNotNull, col(\"to_r\")).otherwise(col(\"id\")))\n",
    "                   .select(\"from\", \"dest\")\n",
    "                   .filter($\"from\" !== $\"dest\") // remove self-links\n",
    "                   .distinct // redirect removal will cause duplicates -> remove them\n",
    "```"
   ]
  },
  {
   "cell_type": "markdown",
   "metadata": {},
   "source": [
    "Reload the computed dataframes from disk to avoid computations..."
   ]
  },
  {
   "cell_type": "code",
   "execution_count": 13,
   "metadata": {},
   "outputs": [],
   "source": [
    "pagelinks_id = ddf.read_parquet(os.path.join(data_path, 'processed', 'pagelinks_id.parquet'))\n",
    "redirect_merged = ddf.read_parquet(os.path.join(data_path, 'processed', 'redirect_merged.parquet')) "
   ]
  },
  {
   "cell_type": "markdown",
   "metadata": {},
   "source": [
    "...or fetch them from S3"
   ]
  },
  {
   "cell_type": "code",
   "execution_count": 19,
   "metadata": {},
   "outputs": [],
   "source": [
    "# read directly the processed data to avoid recomputation\n",
    "redirect_merged = ddf.read_parquet('s3://lts2-wikipedia/enwiki/20201120/redirect_merged.parquet', storage_options=storage_options)\n",
    "pagelinks_id = ddf.read_parquet('s3://lts2-wikipedia/enwiki/20201120/pagelinks_id.parquet', storage_options=storage_options)"
   ]
  },
  {
   "cell_type": "markdown",
   "metadata": {},
   "source": [
    "### Join pagelinks and redirect\n",
    "\n",
    "Let us see how our data looks like after the left join"
   ]
  },
  {
   "cell_type": "code",
   "execution_count": 15,
   "metadata": {},
   "outputs": [],
   "source": [
    "pagelinks_redir_merge = pagelinks_id.merge(redirect_merged.reset_index(), left_on=['id'], right_on=['from'], how='left')"
   ]
  },
  {
   "cell_type": "code",
   "execution_count": 16,
   "metadata": {},
   "outputs": [
    {
     "data": {
      "text/html": [
       "<div>\n",
       "<style scoped>\n",
       "    .dataframe tbody tr th:only-of-type {\n",
       "        vertical-align: middle;\n",
       "    }\n",
       "\n",
       "    .dataframe tbody tr th {\n",
       "        vertical-align: top;\n",
       "    }\n",
       "\n",
       "    .dataframe thead th {\n",
       "        text-align: right;\n",
       "    }\n",
       "</style>\n",
       "<table border=\"1\" class=\"dataframe\">\n",
       "  <thead>\n",
       "    <tr style=\"text-align: right;\">\n",
       "      <th></th>\n",
       "      <th>from_x</th>\n",
       "      <th>title_x</th>\n",
       "      <th>id_x</th>\n",
       "      <th>is_redirect_x</th>\n",
       "      <th>index</th>\n",
       "      <th>from_y</th>\n",
       "      <th>title_y</th>\n",
       "      <th>id_y</th>\n",
       "      <th>is_redirect_y</th>\n",
       "    </tr>\n",
       "  </thead>\n",
       "  <tbody>\n",
       "    <tr>\n",
       "      <th>0</th>\n",
       "      <td>18301841</td>\n",
       "      <td>.xsi</td>\n",
       "      <td>26107610</td>\n",
       "      <td>True</td>\n",
       "      <td>75539.0</td>\n",
       "      <td>26107610.0</td>\n",
       "      <td>Autodesk_Softimage</td>\n",
       "      <td>1931049.0</td>\n",
       "      <td>False</td>\n",
       "    </tr>\n",
       "    <tr>\n",
       "      <th>1</th>\n",
       "      <td>23790514</td>\n",
       "      <td>1001st_Helicopter_Squadron</td>\n",
       "      <td>54167065</td>\n",
       "      <td>True</td>\n",
       "      <td>136648.0</td>\n",
       "      <td>54167065.0</td>\n",
       "      <td>1st_Helicopter_Squadron</td>\n",
       "      <td>8659503.0</td>\n",
       "      <td>False</td>\n",
       "    </tr>\n",
       "    <tr>\n",
       "      <th>2</th>\n",
       "      <td>415160</td>\n",
       "      <td>10th_Infantry_Division_(Greece)</td>\n",
       "      <td>34514441</td>\n",
       "      <td>True</td>\n",
       "      <td>165820.0</td>\n",
       "      <td>34514441.0</td>\n",
       "      <td>10th_Mechanized_Infantry_Brigade_(Greece)</td>\n",
       "      <td>34514432.0</td>\n",
       "      <td>False</td>\n",
       "    </tr>\n",
       "    <tr>\n",
       "      <th>3</th>\n",
       "      <td>425895</td>\n",
       "      <td>10th_Infantry_Division_(Greece)</td>\n",
       "      <td>34514441</td>\n",
       "      <td>True</td>\n",
       "      <td>165820.0</td>\n",
       "      <td>34514441.0</td>\n",
       "      <td>10th_Mechanized_Infantry_Brigade_(Greece)</td>\n",
       "      <td>34514432.0</td>\n",
       "      <td>False</td>\n",
       "    </tr>\n",
       "    <tr>\n",
       "      <th>4</th>\n",
       "      <td>3042106</td>\n",
       "      <td>10th_Infantry_Division_(Greece)</td>\n",
       "      <td>34514441</td>\n",
       "      <td>True</td>\n",
       "      <td>165820.0</td>\n",
       "      <td>34514441.0</td>\n",
       "      <td>10th_Mechanized_Infantry_Brigade_(Greece)</td>\n",
       "      <td>34514432.0</td>\n",
       "      <td>False</td>\n",
       "    </tr>\n",
       "    <tr>\n",
       "      <th>5</th>\n",
       "      <td>9540507</td>\n",
       "      <td>10th_Infantry_Division_(Greece)</td>\n",
       "      <td>34514441</td>\n",
       "      <td>True</td>\n",
       "      <td>165820.0</td>\n",
       "      <td>34514441.0</td>\n",
       "      <td>10th_Mechanized_Infantry_Brigade_(Greece)</td>\n",
       "      <td>34514432.0</td>\n",
       "      <td>False</td>\n",
       "    </tr>\n",
       "    <tr>\n",
       "      <th>6</th>\n",
       "      <td>9648456</td>\n",
       "      <td>10th_Infantry_Division_(Greece)</td>\n",
       "      <td>34514441</td>\n",
       "      <td>True</td>\n",
       "      <td>165820.0</td>\n",
       "      <td>34514441.0</td>\n",
       "      <td>10th_Mechanized_Infantry_Brigade_(Greece)</td>\n",
       "      <td>34514432.0</td>\n",
       "      <td>False</td>\n",
       "    </tr>\n",
       "    <tr>\n",
       "      <th>7</th>\n",
       "      <td>9648459</td>\n",
       "      <td>10th_Infantry_Division_(Greece)</td>\n",
       "      <td>34514441</td>\n",
       "      <td>True</td>\n",
       "      <td>165820.0</td>\n",
       "      <td>34514441.0</td>\n",
       "      <td>10th_Mechanized_Infantry_Brigade_(Greece)</td>\n",
       "      <td>34514432.0</td>\n",
       "      <td>False</td>\n",
       "    </tr>\n",
       "    <tr>\n",
       "      <th>8</th>\n",
       "      <td>9648466</td>\n",
       "      <td>10th_Infantry_Division_(Greece)</td>\n",
       "      <td>34514441</td>\n",
       "      <td>True</td>\n",
       "      <td>165820.0</td>\n",
       "      <td>34514441.0</td>\n",
       "      <td>10th_Mechanized_Infantry_Brigade_(Greece)</td>\n",
       "      <td>34514432.0</td>\n",
       "      <td>False</td>\n",
       "    </tr>\n",
       "    <tr>\n",
       "      <th>9</th>\n",
       "      <td>9648476</td>\n",
       "      <td>10th_Infantry_Division_(Greece)</td>\n",
       "      <td>34514441</td>\n",
       "      <td>True</td>\n",
       "      <td>165820.0</td>\n",
       "      <td>34514441.0</td>\n",
       "      <td>10th_Mechanized_Infantry_Brigade_(Greece)</td>\n",
       "      <td>34514432.0</td>\n",
       "      <td>False</td>\n",
       "    </tr>\n",
       "    <tr>\n",
       "      <th>10</th>\n",
       "      <td>10980141</td>\n",
       "      <td>10th_Infantry_Division_(Greece)</td>\n",
       "      <td>34514441</td>\n",
       "      <td>True</td>\n",
       "      <td>165820.0</td>\n",
       "      <td>34514441.0</td>\n",
       "      <td>10th_Mechanized_Infantry_Brigade_(Greece)</td>\n",
       "      <td>34514432.0</td>\n",
       "      <td>False</td>\n",
       "    </tr>\n",
       "    <tr>\n",
       "      <th>11</th>\n",
       "      <td>18552607</td>\n",
       "      <td>10th_Infantry_Division_(Greece)</td>\n",
       "      <td>34514441</td>\n",
       "      <td>True</td>\n",
       "      <td>165820.0</td>\n",
       "      <td>34514441.0</td>\n",
       "      <td>10th_Mechanized_Infantry_Brigade_(Greece)</td>\n",
       "      <td>34514432.0</td>\n",
       "      <td>False</td>\n",
       "    </tr>\n",
       "    <tr>\n",
       "      <th>12</th>\n",
       "      <td>18585691</td>\n",
       "      <td>10th_Infantry_Division_(Greece)</td>\n",
       "      <td>34514441</td>\n",
       "      <td>True</td>\n",
       "      <td>165820.0</td>\n",
       "      <td>34514441.0</td>\n",
       "      <td>10th_Mechanized_Infantry_Brigade_(Greece)</td>\n",
       "      <td>34514432.0</td>\n",
       "      <td>False</td>\n",
       "    </tr>\n",
       "    <tr>\n",
       "      <th>13</th>\n",
       "      <td>28409618</td>\n",
       "      <td>10th_Infantry_Division_(Greece)</td>\n",
       "      <td>34514441</td>\n",
       "      <td>True</td>\n",
       "      <td>165820.0</td>\n",
       "      <td>34514441.0</td>\n",
       "      <td>10th_Mechanized_Infantry_Brigade_(Greece)</td>\n",
       "      <td>34514432.0</td>\n",
       "      <td>False</td>\n",
       "    </tr>\n",
       "    <tr>\n",
       "      <th>14</th>\n",
       "      <td>29526040</td>\n",
       "      <td>10th_Infantry_Division_(Greece)</td>\n",
       "      <td>34514441</td>\n",
       "      <td>True</td>\n",
       "      <td>165820.0</td>\n",
       "      <td>34514441.0</td>\n",
       "      <td>10th_Mechanized_Infantry_Brigade_(Greece)</td>\n",
       "      <td>34514432.0</td>\n",
       "      <td>False</td>\n",
       "    </tr>\n",
       "    <tr>\n",
       "      <th>15</th>\n",
       "      <td>31814001</td>\n",
       "      <td>10th_Infantry_Division_(Greece)</td>\n",
       "      <td>34514441</td>\n",
       "      <td>True</td>\n",
       "      <td>165820.0</td>\n",
       "      <td>34514441.0</td>\n",
       "      <td>10th_Mechanized_Infantry_Brigade_(Greece)</td>\n",
       "      <td>34514432.0</td>\n",
       "      <td>False</td>\n",
       "    </tr>\n",
       "    <tr>\n",
       "      <th>16</th>\n",
       "      <td>32190319</td>\n",
       "      <td>10th_Infantry_Division_(Greece)</td>\n",
       "      <td>34514441</td>\n",
       "      <td>True</td>\n",
       "      <td>165820.0</td>\n",
       "      <td>34514441.0</td>\n",
       "      <td>10th_Mechanized_Infantry_Brigade_(Greece)</td>\n",
       "      <td>34514432.0</td>\n",
       "      <td>False</td>\n",
       "    </tr>\n",
       "    <tr>\n",
       "      <th>17</th>\n",
       "      <td>32215624</td>\n",
       "      <td>10th_Infantry_Division_(Greece)</td>\n",
       "      <td>34514441</td>\n",
       "      <td>True</td>\n",
       "      <td>165820.0</td>\n",
       "      <td>34514441.0</td>\n",
       "      <td>10th_Mechanized_Infantry_Brigade_(Greece)</td>\n",
       "      <td>34514432.0</td>\n",
       "      <td>False</td>\n",
       "    </tr>\n",
       "    <tr>\n",
       "      <th>18</th>\n",
       "      <td>32471803</td>\n",
       "      <td>10th_Infantry_Division_(Greece)</td>\n",
       "      <td>34514441</td>\n",
       "      <td>True</td>\n",
       "      <td>165820.0</td>\n",
       "      <td>34514441.0</td>\n",
       "      <td>10th_Mechanized_Infantry_Brigade_(Greece)</td>\n",
       "      <td>34514432.0</td>\n",
       "      <td>False</td>\n",
       "    </tr>\n",
       "    <tr>\n",
       "      <th>19</th>\n",
       "      <td>34514250</td>\n",
       "      <td>10th_Infantry_Division_(Greece)</td>\n",
       "      <td>34514441</td>\n",
       "      <td>True</td>\n",
       "      <td>165820.0</td>\n",
       "      <td>34514441.0</td>\n",
       "      <td>10th_Mechanized_Infantry_Brigade_(Greece)</td>\n",
       "      <td>34514432.0</td>\n",
       "      <td>False</td>\n",
       "    </tr>\n",
       "  </tbody>\n",
       "</table>\n",
       "</div>"
      ],
      "text/plain": [
       "      from_x                          title_x      id_x  is_redirect_x  \\\n",
       "0   18301841                             .xsi  26107610           True   \n",
       "1   23790514       1001st_Helicopter_Squadron  54167065           True   \n",
       "2     415160  10th_Infantry_Division_(Greece)  34514441           True   \n",
       "3     425895  10th_Infantry_Division_(Greece)  34514441           True   \n",
       "4    3042106  10th_Infantry_Division_(Greece)  34514441           True   \n",
       "5    9540507  10th_Infantry_Division_(Greece)  34514441           True   \n",
       "6    9648456  10th_Infantry_Division_(Greece)  34514441           True   \n",
       "7    9648459  10th_Infantry_Division_(Greece)  34514441           True   \n",
       "8    9648466  10th_Infantry_Division_(Greece)  34514441           True   \n",
       "9    9648476  10th_Infantry_Division_(Greece)  34514441           True   \n",
       "10  10980141  10th_Infantry_Division_(Greece)  34514441           True   \n",
       "11  18552607  10th_Infantry_Division_(Greece)  34514441           True   \n",
       "12  18585691  10th_Infantry_Division_(Greece)  34514441           True   \n",
       "13  28409618  10th_Infantry_Division_(Greece)  34514441           True   \n",
       "14  29526040  10th_Infantry_Division_(Greece)  34514441           True   \n",
       "15  31814001  10th_Infantry_Division_(Greece)  34514441           True   \n",
       "16  32190319  10th_Infantry_Division_(Greece)  34514441           True   \n",
       "17  32215624  10th_Infantry_Division_(Greece)  34514441           True   \n",
       "18  32471803  10th_Infantry_Division_(Greece)  34514441           True   \n",
       "19  34514250  10th_Infantry_Division_(Greece)  34514441           True   \n",
       "\n",
       "       index      from_y                                    title_y  \\\n",
       "0    75539.0  26107610.0                         Autodesk_Softimage   \n",
       "1   136648.0  54167065.0                    1st_Helicopter_Squadron   \n",
       "2   165820.0  34514441.0  10th_Mechanized_Infantry_Brigade_(Greece)   \n",
       "3   165820.0  34514441.0  10th_Mechanized_Infantry_Brigade_(Greece)   \n",
       "4   165820.0  34514441.0  10th_Mechanized_Infantry_Brigade_(Greece)   \n",
       "5   165820.0  34514441.0  10th_Mechanized_Infantry_Brigade_(Greece)   \n",
       "6   165820.0  34514441.0  10th_Mechanized_Infantry_Brigade_(Greece)   \n",
       "7   165820.0  34514441.0  10th_Mechanized_Infantry_Brigade_(Greece)   \n",
       "8   165820.0  34514441.0  10th_Mechanized_Infantry_Brigade_(Greece)   \n",
       "9   165820.0  34514441.0  10th_Mechanized_Infantry_Brigade_(Greece)   \n",
       "10  165820.0  34514441.0  10th_Mechanized_Infantry_Brigade_(Greece)   \n",
       "11  165820.0  34514441.0  10th_Mechanized_Infantry_Brigade_(Greece)   \n",
       "12  165820.0  34514441.0  10th_Mechanized_Infantry_Brigade_(Greece)   \n",
       "13  165820.0  34514441.0  10th_Mechanized_Infantry_Brigade_(Greece)   \n",
       "14  165820.0  34514441.0  10th_Mechanized_Infantry_Brigade_(Greece)   \n",
       "15  165820.0  34514441.0  10th_Mechanized_Infantry_Brigade_(Greece)   \n",
       "16  165820.0  34514441.0  10th_Mechanized_Infantry_Brigade_(Greece)   \n",
       "17  165820.0  34514441.0  10th_Mechanized_Infantry_Brigade_(Greece)   \n",
       "18  165820.0  34514441.0  10th_Mechanized_Infantry_Brigade_(Greece)   \n",
       "19  165820.0  34514441.0  10th_Mechanized_Infantry_Brigade_(Greece)   \n",
       "\n",
       "          id_y is_redirect_y  \n",
       "0    1931049.0         False  \n",
       "1    8659503.0         False  \n",
       "2   34514432.0         False  \n",
       "3   34514432.0         False  \n",
       "4   34514432.0         False  \n",
       "5   34514432.0         False  \n",
       "6   34514432.0         False  \n",
       "7   34514432.0         False  \n",
       "8   34514432.0         False  \n",
       "9   34514432.0         False  \n",
       "10  34514432.0         False  \n",
       "11  34514432.0         False  \n",
       "12  34514432.0         False  \n",
       "13  34514432.0         False  \n",
       "14  34514432.0         False  \n",
       "15  34514432.0         False  \n",
       "16  34514432.0         False  \n",
       "17  34514432.0         False  \n",
       "18  34514432.0         False  \n",
       "19  34514432.0         False  "
      ]
     },
     "execution_count": 16,
     "metadata": {},
     "output_type": "execute_result"
    }
   ],
   "source": [
    "pagelinks_redir_merge.head(20)"
   ]
  },
  {
   "cell_type": "markdown",
   "metadata": {},
   "source": [
    "We need to keep id `id_x` column when no redirection exists, and the `id_y` when the page is redirected. This is done by creating a new column (I did not find how to do it using a single statement as the original Scala code does)"
   ]
  },
  {
   "cell_type": "code",
   "execution_count": 17,
   "metadata": {},
   "outputs": [],
   "source": [
    "# keep redirects where they exist, the original id otherwise\n",
    "pagelinks_redir_merge['id_merge'] = pagelinks_redir_merge['id_x'].where(pagelinks_redir_merge['id_y'].isnull(), pagelinks_redir_merge['id_y'])"
   ]
  },
  {
   "cell_type": "code",
   "execution_count": 18,
   "metadata": {},
   "outputs": [],
   "source": [
    "pagelinks_redir_merge_final = pagelinks_redir_merge.drop(columns=['id_x', 'index', 'title_x', 'id_y', 'title_y', 'from_y', 'is_redirect_x', 'is_redirect_y'])\\\n",
    "    .rename(columns={'id_merge':'dest', 'from_x':'from'})"
   ]
  },
  {
   "cell_type": "markdown",
   "metadata": {},
   "source": [
    "### Self-links removal\n",
    "\n",
    "The resolution of redirections created self-links"
   ]
  },
  {
   "cell_type": "code",
   "execution_count": 20,
   "metadata": {},
   "outputs": [],
   "source": [
    "self_links = pagelinks_redir_merge_final[pagelinks_redir_merge_final['from']==pagelinks_redir_merge_final['dest']]"
   ]
  },
  {
   "cell_type": "code",
   "execution_count": 22,
   "metadata": {},
   "outputs": [
    {
     "data": {
      "text/html": [
       "<div>\n",
       "<style scoped>\n",
       "    .dataframe tbody tr th:only-of-type {\n",
       "        vertical-align: middle;\n",
       "    }\n",
       "\n",
       "    .dataframe tbody tr th {\n",
       "        vertical-align: top;\n",
       "    }\n",
       "\n",
       "    .dataframe thead th {\n",
       "        text-align: right;\n",
       "    }\n",
       "</style>\n",
       "<table border=\"1\" class=\"dataframe\">\n",
       "  <thead>\n",
       "    <tr style=\"text-align: right;\">\n",
       "      <th></th>\n",
       "      <th>from</th>\n",
       "      <th>dest</th>\n",
       "    </tr>\n",
       "  </thead>\n",
       "  <tbody>\n",
       "    <tr>\n",
       "      <th>21</th>\n",
       "      <td>34514432</td>\n",
       "      <td>34514432</td>\n",
       "    </tr>\n",
       "    <tr>\n",
       "      <th>333</th>\n",
       "      <td>11632630</td>\n",
       "      <td>11632630</td>\n",
       "    </tr>\n",
       "    <tr>\n",
       "      <th>3473</th>\n",
       "      <td>63932158</td>\n",
       "      <td>63932158</td>\n",
       "    </tr>\n",
       "    <tr>\n",
       "      <th>3575</th>\n",
       "      <td>45449270</td>\n",
       "      <td>45449270</td>\n",
       "    </tr>\n",
       "    <tr>\n",
       "      <th>10134</th>\n",
       "      <td>30136816</td>\n",
       "      <td>30136816</td>\n",
       "    </tr>\n",
       "  </tbody>\n",
       "</table>\n",
       "</div>"
      ],
      "text/plain": [
       "           from      dest\n",
       "21     34514432  34514432\n",
       "333    11632630  11632630\n",
       "3473   63932158  63932158\n",
       "3575   45449270  45449270\n",
       "10134  30136816  30136816"
      ]
     },
     "execution_count": 22,
     "metadata": {},
     "output_type": "execute_result"
    }
   ],
   "source": [
    "self_links.head()"
   ]
  },
  {
   "cell_type": "markdown",
   "metadata": {},
   "source": [
    "Remove the self-links, as they are not useful."
   ]
  },
  {
   "cell_type": "code",
   "execution_count": 23,
   "metadata": {},
   "outputs": [],
   "source": [
    "# remove self-links\n",
    "pagelinks_redir_noself = pagelinks_redir_merge_final[pagelinks_redir_merge_final['from'] != pagelinks_redir_merge_final['dest']]"
   ]
  },
  {
   "cell_type": "markdown",
   "metadata": {},
   "source": [
    "Last step is to remove links from pages that are redirects, as does sparkwiki:\n",
    "```\n",
    "// some redirect pages have regular links -> remove them\n",
    "    linksDf.withColumn(\"id\", linksDf.col(\"from\"))\n",
    "           .join(pages, \"id\")\n",
    "           .filter($\"isRedirect\" === false)\n",
    "           .select(\"from\", \"dest\")\n",
    "```\n"
   ]
  },
  {
   "cell_type": "code",
   "execution_count": 30,
   "metadata": {},
   "outputs": [],
   "source": [
    "pagelinks_redir_pages = pagelinks_redir_noself.merge(pages_df, left_on='from', right_index=True)\\\n",
    "                                                .drop(columns=['namespace', 'title', 'is_new'])"
   ]
  },
  {
   "cell_type": "markdown",
   "metadata": {},
   "source": [
    "### Ignore links on redirect pages\n",
    "\n",
    "Remove links from pages having `is_redirect` is true"
   ]
  },
  {
   "cell_type": "code",
   "execution_count": 33,
   "metadata": {},
   "outputs": [],
   "source": [
    "pagelinks_redir_clean = pagelinks_redir_pages[~pagelinks_redir_pages['is_redirect']].drop(columns=['is_redirect'])"
   ]
  },
  {
   "cell_type": "markdown",
   "metadata": {},
   "source": [
    "And finally save the result, always useful to have a checkpoint to restart from if things go bad"
   ]
  },
  {
   "cell_type": "code",
   "execution_count": 35,
   "metadata": {},
   "outputs": [],
   "source": [
    "pagelinks_redir_clean.to_parquet(os.path.join(data_path, 'processed', 'pagelinks_redir_clean.parquet'), compression='gzip')"
   ]
  },
  {
   "cell_type": "markdown",
   "metadata": {},
   "source": [
    "### Cleanup - duplicate links removal\n",
    "\n",
    "If you read carefully, you noticed that the `distinct` call of the first Scala/Spark query. Dask has a [`drop_duplicates`](https://docs.dask.org/en/latest/dataframe-api.html#dask.dataframe.DataFrame.drop_duplicates) that sound to be what we want.\n",
    "\n",
    "First, let us re-read the processing we did so far from disk to avoid recomputation"
   ]
  },
  {
   "cell_type": "code",
   "execution_count": 6,
   "metadata": {},
   "outputs": [],
   "source": [
    "pagelinks_redir_clean = ddf.read_parquet(os.path.join(data_path, 'processed', 'pagelinks_redir_clean.parquet'))"
   ]
  },
  {
   "cell_type": "markdown",
   "metadata": {},
   "source": [
    "As always, our S3 copy is available"
   ]
  },
  {
   "cell_type": "code",
   "execution_count": null,
   "metadata": {},
   "outputs": [],
   "source": [
    "pagelinks_redir_clean = ddf.read_parquet('s3://lts2-wikipedia/enwiki/20201120/pagelinks_redir_clean.parquet', storage_options=storage_options)"
   ]
  },
  {
   "cell_type": "code",
   "execution_count": 38,
   "metadata": {},
   "outputs": [
    {
     "data": {
      "text/plain": [
       "from    534689528\n",
       "dest    534689528\n",
       "dtype: int64"
      ]
     },
     "execution_count": 38,
     "metadata": {},
     "output_type": "execute_result"
    }
   ],
   "source": [
    "pagelinks_redir_clean.count().compute()"
   ]
  },
  {
   "cell_type": "markdown",
   "metadata": {},
   "source": [
    "That is almost 535 millions of links."
   ]
  },
  {
   "cell_type": "code",
   "execution_count": 7,
   "metadata": {},
   "outputs": [],
   "source": [
    "pagelinks_redir_nodupes = pagelinks_redir_clean.drop_duplicates(['from', 'dest'])"
   ]
  },
  {
   "cell_type": "markdown",
   "metadata": {},
   "source": [
    "Trying to run the code below might trigger out-of-memory errors and finally the process will fail if your workers do not have more than **55GB to 60GB** memory available ! You have been warned :)  ! A `repartition` call has been added to avoid ending up with a single file."
   ]
  },
  {
   "cell_type": "code",
   "execution_count": 42,
   "metadata": {},
   "outputs": [],
   "source": [
    "pagelinks_redir_nodupes.repartition(npartitions=50)\\\n",
    "                       .to_parquet(os.path.join(data_path, 'processed', 'pagelinks_redir_nodupes.parquet'), compression='gzip')"
   ]
  },
  {
   "cell_type": "markdown",
   "metadata": {},
   "source": [
    "Play it safe, reload from disk ..."
   ]
  },
  {
   "cell_type": "code",
   "execution_count": 19,
   "metadata": {},
   "outputs": [],
   "source": [
    "pagelinks_redir_nodupes = ddf.read_parquet(os.path.join(data_path, 'processed', 'pagelinks_redir_nodupes.parquet'), engine='pyarrow')"
   ]
  },
  {
   "cell_type": "markdown",
   "metadata": {},
   "source": [
    "... or from S3"
   ]
  },
  {
   "cell_type": "code",
   "execution_count": null,
   "metadata": {},
   "outputs": [],
   "source": [
    "pagelinks_redir_nodupes = ddf.read_parquet('s3://lts2-wikipedia/enwiki/20201120/pagelinks_redir_nodupes.parquet', storage_options=storage_options)"
   ]
  },
  {
   "cell_type": "code",
   "execution_count": 16,
   "metadata": {},
   "outputs": [
    {
     "data": {
      "text/plain": [
       "from    522219227\n",
       "dest    522219227\n",
       "dtype: int64"
      ]
     },
     "execution_count": 16,
     "metadata": {},
     "output_type": "execute_result"
    }
   ],
   "source": [
    "pagelinks_redir_nodupes.count().compute()"
   ]
  },
  {
   "cell_type": "markdown",
   "metadata": {},
   "source": [
    "There was about 15 millions duplicate links removed. Quite worth the computing time"
   ]
  },
  {
   "cell_type": "markdown",
   "metadata": {},
   "source": [
    "# Conclusions\n",
    "\n",
    "Dask is a great tool to exploit parallelism of your local computer, without the hassle of setting up Spark. All you have to do is create a conda environment, install dask and you are mostly done. However, while writing this, I compared with a [dockerized spark instance](https://github.com/cluster-apps-on-docker/spark-standalone-cluster-on-docker), running the sparkwiki processing rewritten for pyspark (each worker was allocated 20GB of RAM and 10 cores). It seems that, for now, spark is more efficient. The redirection processing took only a few minutes and at least twice longer using the dask equivalents and no memory trouble was seen, whereas the duplicates removal required a much bigger amount of memory per worker.\n",
    "\n",
    "Let us compare our results with the pyspark-processed version:"
   ]
  },
  {
   "cell_type": "code",
   "execution_count": 12,
   "metadata": {},
   "outputs": [],
   "source": [
    "pagelinks_pyspark = ddf.read_parquet(os.path.join(data_path, 'processed', 'pagelinks_ps_clean.parquet'), engine='pyarrow')"
   ]
  },
  {
   "cell_type": "code",
   "execution_count": 14,
   "metadata": {},
   "outputs": [
    {
     "data": {
      "text/plain": [
       "from    522219227\n",
       "dest    522219227\n",
       "dtype: int64"
      ]
     },
     "execution_count": 14,
     "metadata": {},
     "output_type": "execute_result"
    }
   ],
   "source": [
    "pagelinks_pyspark.count().compute()"
   ]
  },
  {
   "cell_type": "markdown",
   "metadata": {},
   "source": [
    "Good news, same amount of data in the pyspark version ! Looks like we managed to process in a similar way."
   ]
  },
  {
   "cell_type": "code",
   "execution_count": 23,
   "metadata": {},
   "outputs": [],
   "source": [
    "links_ps = pagelinks_pyspark[pagelinks_pyspark['dest']==1677].compute()"
   ]
  },
  {
   "cell_type": "code",
   "execution_count": 24,
   "metadata": {},
   "outputs": [],
   "source": [
    "links_dask = pagelinks_redir_nodupes[pagelinks_redir_nodupes['dest']==1677].compute()"
   ]
  },
  {
   "cell_type": "code",
   "execution_count": 27,
   "metadata": {},
   "outputs": [
    {
     "data": {
      "text/html": [
       "<div>\n",
       "<style scoped>\n",
       "    .dataframe tbody tr th:only-of-type {\n",
       "        vertical-align: middle;\n",
       "    }\n",
       "\n",
       "    .dataframe tbody tr th {\n",
       "        vertical-align: top;\n",
       "    }\n",
       "\n",
       "    .dataframe thead th {\n",
       "        text-align: right;\n",
       "    }\n",
       "</style>\n",
       "<table border=\"1\" class=\"dataframe\">\n",
       "  <thead>\n",
       "    <tr style=\"text-align: right;\">\n",
       "      <th></th>\n",
       "      <th>from</th>\n",
       "      <th>dest</th>\n",
       "    </tr>\n",
       "  </thead>\n",
       "  <tbody>\n",
       "    <tr>\n",
       "      <th>764</th>\n",
       "      <td>736</td>\n",
       "      <td>1677</td>\n",
       "    </tr>\n",
       "    <tr>\n",
       "      <th>743</th>\n",
       "      <td>1676</td>\n",
       "      <td>1677</td>\n",
       "    </tr>\n",
       "    <tr>\n",
       "      <th>2063</th>\n",
       "      <td>1688</td>\n",
       "      <td>1677</td>\n",
       "    </tr>\n",
       "    <tr>\n",
       "      <th>1167</th>\n",
       "      <td>1689</td>\n",
       "      <td>1677</td>\n",
       "    </tr>\n",
       "    <tr>\n",
       "      <th>363</th>\n",
       "      <td>1862</td>\n",
       "      <td>1677</td>\n",
       "    </tr>\n",
       "  </tbody>\n",
       "</table>\n",
       "</div>"
      ],
      "text/plain": [
       "      from  dest\n",
       "764    736  1677\n",
       "743   1676  1677\n",
       "2063  1688  1677\n",
       "1167  1689  1677\n",
       "363   1862  1677"
      ]
     },
     "execution_count": 27,
     "metadata": {},
     "output_type": "execute_result"
    }
   ],
   "source": [
    "links_ps.sort_values('from').head()"
   ]
  },
  {
   "cell_type": "code",
   "execution_count": 43,
   "metadata": {},
   "outputs": [],
   "source": [
    "delta = (links_dask.sort_values('from').reset_index()['from']-links_ps.sort_values('from').reset_index()['from'])"
   ]
  },
  {
   "cell_type": "code",
   "execution_count": 44,
   "metadata": {},
   "outputs": [
    {
     "data": {
      "text/plain": [
       "0"
      ]
     },
     "execution_count": 44,
     "metadata": {},
     "output_type": "execute_result"
    }
   ],
   "source": [
    "delta.min()"
   ]
  },
  {
   "cell_type": "code",
   "execution_count": 45,
   "metadata": {},
   "outputs": [
    {
     "data": {
      "text/plain": [
       "0"
      ]
     },
     "execution_count": 45,
     "metadata": {},
     "output_type": "execute_result"
    }
   ],
   "source": [
    "delta.max()"
   ]
  },
  {
   "cell_type": "code",
   "execution_count": null,
   "metadata": {},
   "outputs": [],
   "source": []
  }
 ],
 "metadata": {
  "kernelspec": {
   "display_name": "Python 3",
   "language": "python",
   "name": "python3"
  },
  "language_info": {
   "codemirror_mode": {
    "name": "ipython",
    "version": 3
   },
   "file_extension": ".py",
   "mimetype": "text/x-python",
   "name": "python",
   "nbconvert_exporter": "python",
   "pygments_lexer": "ipython3",
   "version": "3.7.7"
  }
 },
 "nbformat": 4,
 "nbformat_minor": 4
}
